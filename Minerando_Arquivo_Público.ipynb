{
  "nbformat": 4,
  "nbformat_minor": 0,
  "metadata": {
    "colab": {
      "name": "Minerando Arquivo Público.ipynb",
      "provenance": []
    },
    "kernelspec": {
      "name": "python3",
      "display_name": "Python 3"
    }
  },
  "cells": [
    {
      "cell_type": "code",
      "metadata": {
        "id": "sZuAbZDs_YbI",
        "colab_type": "code",
        "colab": {}
      },
      "source": [
        "from urllib.request import urlopen\n",
        "from bs4 import BeautifulSoup\n",
        "import re\n",
        "from functools import reduce"
      ],
      "execution_count": 1,
      "outputs": []
    },
    {
      "cell_type": "code",
      "metadata": {
        "id": "VQJTWduX_cb3",
        "colab_type": "code",
        "colab": {}
      },
      "source": [
        "def busca(num_paginas:int, query: list):\n",
        "  query = \"+\".join(query)\n",
        "  num_pagina = 0\n",
        "  paginas = []\n",
        "  for i in range(num_paginas):\n",
        "      with urlopen(\n",
        "              f\"http://www.siaapm.cultura.mg.gov.br/modules/fotografico_docs/search.php?query={query}&action=showall&andor=AND&asc_desc=10&start={num_pagina}0\") as conn:\n",
        "          soup = BeautifulSoup(conn, from_encoding=\"utf-8\", features='html.parser')\n",
        "      paginas.append([str(i.text.upper().split(\"\\xa0\")[0]) for i in soup.find(r'div', {'class': 'busca_lista'}).find_all(href=True)])\n",
        "      num_pagina += 1\n",
        "  paginas = reduce(lambda x, y: x + y, paginas) #retirando as nested lists\n",
        "  paginas = list(set(paginas)) #retirando possíveis duplicados\n",
        "  \n",
        "  return paginas"
      ],
      "execution_count": 3,
      "outputs": []
    },
    {
      "cell_type": "markdown",
      "metadata": {
        "id": "8lz8lT3Y0ab0",
        "colab_type": "text"
      },
      "source": [
        "# BUSCA MULHERES"
      ]
    },
    {
      "cell_type": "code",
      "metadata": {
        "id": "19n5fD9S_a1-",
        "colab_type": "code",
        "colab": {}
      },
      "source": [
        "mulheres = busca(num_paginas = 20, query = [\"mulher\"])\n"
      ],
      "execution_count": 12,
      "outputs": []
    },
    {
      "cell_type": "code",
      "metadata": {
        "id": "Z14hVYJu4yTq",
        "colab_type": "code",
        "colab": {
          "base_uri": "https://localhost:8080/",
          "height": 35
        },
        "outputId": "33e32e40-dbe3-4257-9172-c64c022a0d13"
      },
      "source": [
        "len(mulheres)"
      ],
      "execution_count": 13,
      "outputs": [
        {
          "output_type": "execute_result",
          "data": {
            "text/plain": [
              "196"
            ]
          },
          "metadata": {
            "tags": []
          },
          "execution_count": 13
        }
      ]
    },
    {
      "cell_type": "code",
      "metadata": {
        "id": "fVrEt7QeELuT",
        "colab_type": "code",
        "colab": {
          "base_uri": "https://localhost:8080/",
          "height": 72
        },
        "outputId": "e642cb4c-a693-4e83-eeaa-b842a5208e64"
      },
      "source": [
        "verificacao = [mulheres[i] for i in range(len(mulheres)) if \"MULHER\" in mulheres[i]]\n",
        "nao_identificada = [verificacao[i] for i in range(len(verificacao)) if \"NÃO IDENTIFICAD\" in verificacao[i] and \"DOENÇA NÃO IDENTIFICADA\" not in verificacao[i]]\n",
        "\n",
        "\n",
        "print(len(verificacao))\n",
        "print(len(nao_identificada))\n",
        "\n",
        "print(len(nao_identificada)/len(verificacao)*100)"
      ],
      "execution_count": 7,
      "outputs": [
        {
          "output_type": "stream",
          "text": [
            "105\n",
            "54\n",
            "51.42857142857142\n"
          ],
          "name": "stdout"
        }
      ]
    },
    {
      "cell_type": "markdown",
      "metadata": {
        "id": "UDj5W8Bg0W7V",
        "colab_type": "text"
      },
      "source": [
        "# BUSCA HOMENS"
      ]
    },
    {
      "cell_type": "code",
      "metadata": {
        "id": "HTF1JHYC01Yd",
        "colab_type": "code",
        "colab": {}
      },
      "source": [
        "homens = busca(38, query = ['homem'])"
      ],
      "execution_count": 8,
      "outputs": []
    },
    {
      "cell_type": "code",
      "metadata": {
        "id": "U0WiORUS1i76",
        "colab_type": "code",
        "colab": {
          "base_uri": "https://localhost:8080/",
          "height": 35
        },
        "outputId": "716761d6-f033-4642-e5fe-92cc01f53de8"
      },
      "source": [
        "len(homens)"
      ],
      "execution_count": 9,
      "outputs": [
        {
          "output_type": "execute_result",
          "data": {
            "text/plain": [
              "374"
            ]
          },
          "metadata": {
            "tags": []
          },
          "execution_count": 9
        }
      ]
    },
    {
      "cell_type": "code",
      "metadata": {
        "id": "4iXyEmi719KM",
        "colab_type": "code",
        "colab": {
          "base_uri": "https://localhost:8080/",
          "height": 72
        },
        "outputId": "474525b2-371f-4dc6-8939-7506024c2a9b"
      },
      "source": [
        "verificacao_homens = [homens[i] for i in range(len(homens)) if \"HOMEM\" in homens[i] or \"HOMENS\" in homens[i]]\n",
        "nao_identificados = [verificacao_homens[i] for i in range(len(verificacao_homens)) if \"NÃO IDENTIFICAD\" in verificacao_homens[i] and \"DOENÇA NÃO IDENTIFICADA\" not in verificacao_homens[i]]\n",
        "\n",
        "\n",
        "print(len(verificacao_homens))\n",
        "print(len(nao_identificados))\n",
        "\n",
        "print(len(nao_identificados)/len(verificacao_homens)*100)"
      ],
      "execution_count": 10,
      "outputs": [
        {
          "output_type": "stream",
          "text": [
            "168\n",
            "139\n",
            "82.73809523809523\n"
          ],
          "name": "stdout"
        }
      ]
    }
  ]
}