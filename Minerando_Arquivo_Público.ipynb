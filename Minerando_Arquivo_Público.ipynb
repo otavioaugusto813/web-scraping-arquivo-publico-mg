{
  "nbformat": 4,
  "nbformat_minor": 0,
  "metadata": {
    "colab": {
      "name": "Minerando Arquivo Público.ipynb",
      "provenance": []
    },
    "kernelspec": {
      "name": "python3",
      "display_name": "Python 3"
    }
  },
  "cells": [
    {
      "cell_type": "code",
      "metadata": {
        "id": "sZuAbZDs_YbI",
        "colab_type": "code",
        "colab": {}
      },
      "source": [
        "from urllib.request import urlopen\n",
        "from bs4 import BeautifulSoup\n",
        "import re\n",
        "from functools import reduce"
      ],
      "execution_count": 1,
      "outputs": []
    },
    {
      "cell_type": "code",
      "metadata": {
        "id": "VQJTWduX_cb3",
        "colab_type": "code",
        "colab": {}
      },
      "source": [
        "def busca(num_paginas:int, query: list):\n",
        "  query = \"+\".join(query)\n",
        "  num_pagina = 0\n",
        "  paginas = []\n",
        "  for i in range(num_paginas):\n",
        "      with urlopen(\n",
        "              f\"http://www.siaapm.cultura.mg.gov.br/modules/fotografico_docs/search.php?query={query}&action=showall&andor=AND&asc_desc=10&start={num_pagina}0\") as conn:\n",
        "          soup = BeautifulSoup(conn, from_encoding=\"utf-8\", features='html.parser')\n",
        "      paginas.append([str(i.text.upper().split(\"\\xa0\")[0]) for i in soup.find(r'div', {'class': 'busca_lista'}).find_all(href=True)])\n",
        "      num_pagina += 1\n",
        "  paginas = reduce(lambda x, y: x + y, paginas) #retirando as nested lists\n",
        "  paginas = list(set(paginas)) #retirando possíveis duplicados\n",
        "  \n",
        "  return paginas"
      ],
      "execution_count": 3,
      "outputs": []
    },
    {
      "cell_type": "markdown",
      "metadata": {
        "id": "8lz8lT3Y0ab0",
        "colab_type": "text"
      },
      "source": [
        "# BUSCA MULHERES"
      ]
    },
    {
      "cell_type": "code",
      "metadata": {
        "id": "19n5fD9S_a1-",
        "colab_type": "code",
        "colab": {
          "base_uri": "https://localhost:8080/",
          "height": 55
        },
        "outputId": "98bdf7c7-2e82-4903-c4fa-77f3d5afb1ec"
      },
      "source": [
        "mulheres = busca(num_paginas = 20, query = [\"mulher\"])\n",
        "print(mulheres)"
      ],
      "execution_count": 4,
      "outputs": [
        {
          "output_type": "stream",
          "text": [
            "['FM-8-6-021 - [JOSEPH LANIEL COM MULHER NÃO IDENTIFICADA]', 'TG-203-005 - [FACHADA DE IGREJA]', 'TG-104-029 - GRUPO DE PESSOAS COM MEMBROS DA FAMÍLIA GUIMARÃES EM BELO HORIZONTE', 'TG-201-003 - [FACHADA DO PALÁCIO HOTEL \\x96 ANTIGO HOTEL GLOBO ]', 'OM-1-028 - MULHER  NÃO IDENTIFICADA', 'SI-067(23) - MULHER COM DOENÇA NÃO IDENTIFICADA', 'TG-105-002 - [GRUPO DE CIVIS E MILITARES]', 'TG-104-019 - [PRESIDENTE EPTÁCIO PESSOA SENDO RECEBIDO  EM PRAÇA PUBLICA EM BELO HORIZONTE]', 'FM-8-6-006 - [MAURO BORJALO E MULHER  NÃO IDENTIFICADA]', 'AB-06-1-126 - MULHER NÃO IDENTIFICADA A BORDO DO NÁVIO \"CHAMPOLLION\" ', 'FMV-6-011 - MULHER NÃO IDENTIFICADA', 'AB-04-1-028 - [MULHERES NÃO IDENTIFICADAS DURANTE A VISITA A  MINA MORRO VELHO ]', 'DJP-6-1-006(09) - DERMEVAL JOSÉ PIMENTA, LÚCIA PINENHEIRO E OUTROS NÃO IDENTIFICADOS', 'TG-202-008 - [TRECHO DE FERROVIA 02]', 'FM-8-9-031 - [MULHERES NÃO IDENTIFICADAS COM  CRIANÇAS]', 'AB-05-4-040 - DESENHO FEITO NA PAREDE DE UMA MULHER DEITADA ', 'DJP-6-3-001(042) - COMEMORAÇÃO PELA RESCISÃO DO CONTRATO DA REDE MINEIRA DE VIAÇÃO', 'SI-067(13) - MULHER COM DOENÇA NÃO IDENTIFICADA', 'SI-032(13) - MULHER INFECTADA POR VARÍOLA', 'SI-067(17) - MULHER COM DOENÇA NÃO IDENTIFICADA', 'FM-8-9-006 - [ESTÁTUA DE RELIGIOSO DURANTE HOMENAGEM]', 'FM-8-9-576 - [OSCAR MENDES ENTRE OUTROS DURANTE SOLENIDADE]', 'JAO-1129(05) - [ENCONTRO DAS MULHERES DE MINAS EM MANIFESTAÇÃO CONTRÁRIA À CRIAÇÃO DO ESTADO DO TRIÂNGULO]', 'SI-032(04) - MULHER INFECTADA POR VARÍOLA', 'DJP-6-1-006(18) - LÚCIA PINHEIRO PIMENTA E OUTRAS NÃO IDENTIFICADAS', 'SI-032(07) - MULHER INFECTADA POR VARÍOLA', 'FM-8-4-167 - [MULHER NÃO IDENTIFICADA COM CARTAZ]', 'TG-206-018 - [FACHADA DE EDIFICAÇÃO URBANA]', 'FM-1-3-114 - [EMBAIXADOR NORTE AMERICANO E SUA MULHER]', 'JDF-8.2-005 - MULHER  NÃO IDENTIFICADA', 'TG-204-004 - VISTA EXTERNA DE RESIDÊNCIA COM PESSOAS', 'AB-05-4-041 - DESENHO NA PAREDE DE MULHER NUA', 'FM-8-9-030 - [MULHER NÃO IDENTIFICADA ENTRE OUTROS FAZENDO  JURAMENTO]', 'JDF-8.2-014 - MULHER NÃO IDENTIFICADA', 'JDF-8.2-032 - BUSTO DE MULHER NÃO IDENTIFICADA', 'AB-05-1-047 - OFICIAIS DA MARINHA E UM GRUPO DE MULHERES  A BORDO DO NÁVIO SAN GIORGIO', 'TG-201-004 - [HOTEL CENTRAL]', 'JAO-1129(03) - [ENCONTRO DAS MULHERES DE MINAS EM MANIFESTAÇÃO CONTRÁRIA À CRIAÇÃO DO ESTADO DO TRIÂNGULO]', 'CD-4-001 - FOTOGRAFIA DOS CONGRESSITAS MINEIROS DE 1891', 'SI-067(20) - MULHER COM DOENÇA NÃO IDENTIFICADA', 'TG-104-009 - [MULHERES E HOMENS NÃO IDENTIFICADOS EM PASSEIO NO PRADO MINEIRO]', 'SI-035(06) - ENFERMARIA FEMININA - SANTA CASA DE MISERICÓRDIA', 'SI-067(11) - MULHER COM DOENÇA NÃO IDENTIFICADA', 'SI-067(14) - MULHER COM DOENÇA NÃO IDENTIFICADA', 'PCG-3.1-017 - MULHER NÃO IDENTIFICADA', 'FM-1-9-042 - [PROFESSOR PHILLIP SCHWBA ACOMPANHADO COM MULHERES NÃO IDENTIFICADAS]', 'TG-105-017 - CAPA DE OPÚSCULO COM IMAGEM DE PEDRO MARIA XAVIER DE ATAÍDE E MELLO E D. MARIA MAGDALENA LEITE DE SOUZA OLIVEIRA E CASTRO', 'SI-032(09) - MULHER INFECTADA POR VARÍOLA', 'FM-3-4-021 - [MULHER DESFILANDO EM CARRO ABERTO]', 'AB-10-1-042 - MULHER JOVEM NÃO IDENTIFICADA', 'DJP-6-3-005(108) - FÁBRICA DE LOCOMOTIVAS', 'SI-067(21) - MULHER COM DOENÇA NÃO IDENTIFICADA', 'SA-1-001(47) - GRUPO DE MULHERES E CRIANÇAS - NÃO IDENTIFICADAS', 'SI-074(01) - MULHERES DOENTES - NÃO IDENTIFICADAS', 'JAO-0322 - [JOSÉ APARECIDO DE OLIVEIRA COM A MULHER E OS FILHOS]', 'SI-067(16) - MULHER COM DOENÇA NÃO IDENTIFICADA', 'TG-105-011 - CASAL NÃO IDENTIFICADO', 'TG-201-012 - [OESTE HOTEL]', 'TG-104-014 - INAUGURAÇÃO DE ESCOLA INFANTIL EM BELO HORIZONTE', 'DJP-6-3-002(111) - VISITA A ALMENARA', 'TG-104-012 - [CONFERÊNCIA DO POETA  OLAVO BILAC -  VISTA DA PLATÉIA]', 'AB-10-016 - MULHER JOVEM NÃO IDENTIFICADA', 'TG-104-010 - ALUNOS, ALUNAS  E PROFESSORES', 'MM-311(01) - \"AS MULHERES\" - ESCULTURA DE JOSÉ PEDROSA NO JARDIM DE FRANCISCO PEIXOTO FILHO EM CATAGUASES (MG)', 'SI-067(24) - MULHER COM DOENÇA NÃO IDENTIFICADA', 'FJBP-1-1-029 - FRANCISCO DA CUNHA E CASTRO ENTRE MULHERES NÃO IDENTIFICADAS', 'JDF-8.2-033 - CARLINHOS E MULHER NÃO IDENTIFICADA', 'ETC-016 - ELVIRA KAMEL', 'FM-3-3-025 - [MULHER TENTA BATER RECORD DE DAR A VOLTA AO MUNDO DE AVIÃO]', 'PA-011(07) - MULHER NÃO IDENTIFICADA PARTICIPA DAS HOMENAGENS', 'OM-1-043 - MULHER NÃO IDENTIFICADA', 'FM-3-6-017 - [RECEPÇÃO OFERECIDA AO PRESIDENTE DA IUGUSLÁVIA MARECHAL TITO E SUA ESPOSA JOVANKA BROZ EM SKOPLJE, ESTADO IUGUSLAVO DA MACEDÔNIA]', 'SI-067(15) - MULHER COM DOENÇA NÃO IDENTIFICADA', 'OM-2-001(47) - ENFERMARIA PARA MULHERES DO HOSPITAL REGIONAL DE POUSO ALEGRE (MG)', 'TG-105-025 - AUTORIDADES CIVIS, MILITARES E POPULARES EM EVENTO NÃO IDENTIFICADO', 'TG-206-017 - [VISTA PARCIAL DE BARBACENA]', 'TG-205-003 - [PRÉDIOS E VIA PÚBLICA]', 'JDF-8.2-187 - PESSOAS NÃO IDENTIFICADAS', 'JDF-8.2-038 - MULHER NÃO IDENTIFICADA', 'AB-05-4-042 - DESENHO DE UMA MULHER FEITO NA PAREDE ', 'DJP-6-3-005(038) - VISITA À SEDE DA SIEMENS', 'TG-104-020 - AUTORIDADES CIVIS, MILITARES E POPULARES NA INAUGURAÇÃO DA MATERNIDADE HILDA BRANDÃO EM BELO HORIZONTE', 'AB-06-1-123 - GRUPO DE VIAJANTES A BORDO DO NÁVIO \"CHAMPOLLION\" NO EGITO', 'FM-8-9-355 - [MULHER NÃO IDENTIFICADA DISCURSANDO]', 'SI-067(18) - MULHER COM DOENÇA NÃO IDENTIFICADA', 'FM-6-6-024 - [POLICIAIS PRESTANDO SOCORRO UMA MULHER]', 'FJB-164 - DESENHO CARICATO DE UM CASAL NÃO IDENTIFICADO', 'FM-1-1-030 - [MULHER NÃO IDENTIFICADA VOTANDO NA PRIMEIRA ELEIÇÃO NA UGANDA]', 'JDF-8.2-055 - MULHERES VESTIDAS COM TRAJE TÍPICO DO JAPÃO', 'AB-10-015 - MULHER JOVEM NÃO IDENTIFICADA', 'MM-311(02) - ESCULTURA DE JAN ZACH NO JARDIM DE FRANCISCO PEIXOTO FILHO EM CATAGUASES (MG)', 'JAO-1129(02) - [ENCONTRO DAS MULHERES DE MINAS EM MANIFESTAÇÃO CONTRÁRIA À CRIAÇÃO DO ESTADO DO TRIÂNGULO]', 'JAO-1129(04) - [ENCONTRO DAS MULHERES DE MINAS EM MANIFESTAÇÃO CONTRÁRIA À CRIAÇÃO DO ESTADO DO TRIÂNGULO]', 'DJP-6-3-005(082) - FÁBRICA DE LOCOMOTIVAS', 'FM-1-6-248 - [APRESENTAÇÃO DA PRINCESA CAROLINE NOS JARDINS DO PALÁCIO]', 'JDF-8.2-025 - BUSTO DE MULHER NÃO IDENTIFICADA', 'FM-3-4-064 - [MARIA LUIZA PIRES MEDEIROS E OUTROS]', 'SA-2-001(105) - COLONOS EM TRABALHO DE CONSTRUÇÃO DE ESTRADA', 'FM-8-9-600 - [MULHER NÃO IDENTIFICADA RECEBENDO FLORES DE CRIANÇA NA VILA BOM JESUS]', 'TG-204-005 - [VISTA PARCIAL DE RESIDÊNCIA URBANA]', 'SI-032(03) - MULHER INFECTADA POR VARÍOLA', 'FM-1-6-120 - [GENERAL DE CASTRIES E SUA MULHER JACQUELINE]', 'ETC-064 - MULHER COM CRIANÇA NO COLO', 'TG-202-016 - [INSTITUTO DE EDUCAÇÃO DE MINAS GERAIS]', 'TG-105-014 - [MULHERES E CRIANÇAS]', 'AB-05-4-044 - FIGURA DE MULHER COM CARTOLA', 'PA-013(34) - TERESINHA GURGEL E OUTRAS MULHERES EM EVENTO NATALINO', 'AB-08-001 - ARTHUR BERNARDES - MOMENTOS ANTES DO EMBARQUE PARA O FORTE DO VIGIA', 'FAG-1-07 - FRANCISCO DE ASSIS GONÇALVES E FAMÍLIA', 'POL-024 - PRESIDIÁRIO NÃO IDENTIFICADO', 'DJP-6-3-002(112) - VISITA A ALMENARA', 'FM-8-9-043 - [MULHER NÃO IDENTIFICADA]', 'SI-048(09) - MULHER INFECTADA POR VARÍOLA', 'TG-105-010 - CASAL NÃO IDENTIFICADO', 'TG-101-010(02) - [MARIA JUDICE COSTA 02]', 'DJP-6-1-002(13) - ALMOÇO NO IATE CLUB', 'JAO-0524(159) - [CAMPANHA ELEITORAL DE 1982]', 'FM-1-6-279 - [BATIZADO DA PRINCESA CAROLINA DE MÔNACO]', 'TG-104-007 - [PESSOAS EM EVENTO COMEMORATIVO]', 'TG-206-003 - [PRÉDIO INACABADO]', 'TG-104-002 - [GRUPO DE PESSOAS NAS RUAS DE BELO HORIZONTE]', 'AB-06-1-111 - MULHERES NÃO IDENTIFICADAS EM AUTOMÓVEL', 'SI-032(11) - MULHER INFECTADA POR VARÍOLA', 'FM-8-9-358 - [MULHER NÃO IDENTIFICADA  APRESENTANDO GAROTOS]', 'TG-202-004 - [INSTITUTO DE PROTEÇÃO E ASSISTÊNCIA INFANTIL - HOSPITAL SÃO VICENTE DE PAULA]', 'SI-180(02) - DUAS MULHERES NÃO IDENTIFICADAS NA VARANDA DO PRÉDIO DE SERVIÇO DE HIGIENE DE QUELUZ, ATUAL CONSELHEIRO LAFAIETE', 'TG-104-021(02) - AUTORIDADES CIVIS E POPULARES NA EXPOSIÇÃO NACIONAL DO MILHO EM BELO HORIZONTE', 'ETC-048 - MULHER DENTRO DE UM CAIXÃO', 'JDF-8.2-001 - MULHER NÃO IDENTIFICADA', 'TG-105-012 - [MONTAGEM ARTÍSTICA - FOTOGRAFIA SOBRE DESENHO]', 'SI-077(37) - HOSPITAL-COLÔNIA DE BARBACENA - PAVILHÃO \"ZOROASTRO PASSOS\" - DE MULHERES INDIGENTES', 'JAO-1129(01) - [ENCONTRO DAS MULHERES DE MINAS EM MANIFESTAÇÃO CONTRÁRIA À CRIAÇÃO DO ESTADO DO TRIÂNGULO]', 'FM-8-9-073 - [MULHER NÃO IDENTIFICADA]', 'OM-1-031 - MULHER NÃO IDENTIFICADA', 'DJP-6-3-005(063) - DELEGAÇÃO BRASILEIRA EM VISITA A DÜSSELDORF', 'JDF-8.2-028 - BUSTO DE MULHER NÃO IDENTIFICADA', 'DJP-6-2-001(25) - I CENTENÁRIO DE FUNDAÇÃO DO INSTITUTO ESTADUAL DE EDUCAÇÃO - 02', 'TG-104-001 - [CASAL BRAZ FERRARA E MARIA AMORIM]', 'AB-05-4-043 - DESENHO FEITO NA PAREDE', 'TG-104-030 - GRUPO DE PESSOAS COM MEMBROS DA FAMÍLIA GUIMARÃES EM BELO HORIZONTE', 'TG-104-028 - [AUTORIDADES CIVIS, MILITARES E POPULARES EM EVENTO CÍVICO NA CIDADE DE SANTA LUZIA]', 'TG-205-005 - VISTA DA AV. RIO BRANCO, EM FRENTE AO PARQUE HALFELD. À DIREITA, O PRÉDIO DA PREFEITURA - JUIZ DE FORA (MG)', 'AB-04-3-015 - MULHERES NÃO IDENTIFICADAS', 'FM-1-6-093 - [REI MIGUEL E MULHER NÃO IDENTIFICADA]', 'TG-201-009 - [FACHADAS DE ESTABELECIMENTOS COMERCIAIS]', 'TG-105-022 - A FAMÍLIA REAL BELGA', 'FM-1-6-204 - [MULHERES NO CASO DE ESPIONAGEM FRANCESA]', 'TG-104-008 - CONCURSO DE MISS', 'SI-067(22) - MULHER COM DOENÇA NÃO IDENTIFICADA', 'FM-1-5-070 - [OFICIAL BURMÊS INSPECIONANDO GRUPO DE FORÇA VOLUNTÁRIA FEMININO ARMADOS DE LANÇAS DE BAMBU]', 'DJP-6-1-006(22) - DERMEVAL JOSÉ PIMENTA E LÚCIA PINHEIRO PIMENTA EM EVENTO NÃO IDENTIFICADO', 'MM-125(03) - PESSOAS NO  REFEITÓRIO DA INSTITUIÇÃO BENEFICENTE PÃO DE SANTO ANTÔNIO EM DIAMANTINA (MG)', 'FM-6-5-002 - [MULHER NÃO IDENTIFICADA REZANDO POR PARENTE MORTO]', 'OM-1-021 - MULHER NÃO IDENTIFICADA', 'TG-104-015 - ANTIGO TEATRO MUNICIPAL', 'DJP-6-1-002(16) - JOSEFINA PIMENTA', 'TG-105-013 - [MULHER NÃO IDENTIFICADA]', 'JDF-8.2-004 - MULHER  NÃO IDENTIFICADA', 'AB-05-4-038 - FIGURA DE MULHER E INSCRIÇÃO', 'TG-104-013 - [EVENTO BENEFICENTE]', 'TG-104-017 - PRESIDENTE EPITÁCIO PESSOA E OUTRAS AUTORIDADES CIVIS E MILTARES NA INAUGURAÇÃO DA ESTRADA DE FERRO OESTE DE MINAS', 'TG-101-010(04) - [MARIA JUDICE COSTA 04]', 'SI-032(06) - MULHER INFECTADA POR VARÍOLA', 'FM-8-4-131 - [MULHERES NÃO IDENTIFICADAS]', 'FJB-035 - MULHER E CRIANÇA NÃO IDENTIFICADAS', 'FJBP-1-1-030 - D. INHAZINHA CUNHA E CASTRO', 'FJBP-1-1-107 - O CASAL ANNA AUGUSTA E JOSÉ JOAQUIM DOS SANTOS SILVA', 'TG-201-010 - [ARMARINHO SÃO JOÃO BATISTA]', 'FM-1-4-045 - [EX-PRESIDENTE DA COLÔMBIA LAUREANO GOMES]', 'JDF-8.2-081 - JOÃO DORNAS FILHO ENTRE SUA  ESPOSA E OUTRA MULHER NÃO IDENTIFICADA', 'PE-078 - MULHER NÃO IDENTIFICADA', 'DJP-6-1-002(09) - MULHERES EM ESCADARIA DE IGREJA', 'DJP-6-1-006(51) - VIAGEM À ARGENTINA', 'POL-020(01) - OSSADA HUMANA SOBRE MATO EM LOCAL NÃO IDENTIFICADO', 'FM-5-4-158 - [ MULHER NÃO IDENTIFICADA SEGURANDO UMA JÓIA]', 'ETC-063 - BUSTO DE MULHER NÃO IDENTIFICADA', 'TG-101-010(03) - [MARIA JUDICE COSTA 03]', 'AB-06-1-125 - GRUPO DE MULHERES E MILITAR NÃO IDENTIFICADOS NO CAIS', 'JDF-8.2-015 - BUSTO DE MULHER NÃO IDENTIFICADA', 'JBA-015 - MULHER  NÃO IDENTIFICADA', 'FM-8-9-122 - [SUA ALTEZA A BEGUN AGA KHAN E O PRÍNCIPE OBOLENSKY]', 'SI-067(19) - MULHER COM DOENÇA NÃO IDENTIFICADA', 'DJP-6-2-001(24) - I CENTENÁRIO DE FUNDAÇÃO DO INSTITUTO ESTADUAL DE EDUCAÇÃO - 01', 'TG-104-031 - [CLUB MATAKINS]', 'AB-05-4-111 - GRUPO DE MULHERES MORADORAS DE CLEVELÂNDIA', 'MM-311(03) - ESCULTURA DE JAN ZACH NO JARDIM DO HOTEL CATAGUASES (MG)', 'SI-035(08) - MULHERES AGUARDAM CONSULTA MÉDICA NA SALA DE ESPERA DA SANTA CASA DE MISERICÓRDIA', 'SI-074(02) - MULHERES DOENTES - NÃO IDENTIFICADAS', 'TG-104-027 - [CORTEJO FÚNEBRE EM OURO PRETO ACOMPANHADO POR AUTORIDADES CIVIS, MILITARES E POPULARES]', 'SI-067(12) - MULHER COM DOENÇA NÃO IDENTIFICADA', 'FJBP-1-1-023 - JOVITA OLIVEIRA CAMPOS', 'FM-8-9-128 - [MULHER NÃO IDENTIFICADA ACIDENTADA EM DENVER]', 'FM-1-8-155 - [CIENTISTAS NAZISTAS NO TRIBUNAL]', 'DJP-6-3-005(163) - VISITA TÉCNICA A UMA INDÚSTRIA', 'TG-101-010(01) - [MARIA JUDICE COSTA 01]', 'DJP-6-3-005(129) - VISITA À FÁBRICA ADAM OPEL A.G.']\n"
          ],
          "name": "stdout"
        }
      ]
    },
    {
      "cell_type": "code",
      "metadata": {
        "id": "Z14hVYJu4yTq",
        "colab_type": "code",
        "colab": {
          "base_uri": "https://localhost:8080/",
          "height": 35
        },
        "outputId": "5783b3db-4bdd-4d3a-99e9-d5699f36d7b2"
      },
      "source": [
        "len(mulheres)"
      ],
      "execution_count": 5,
      "outputs": [
        {
          "output_type": "execute_result",
          "data": {
            "text/plain": [
              "196"
            ]
          },
          "metadata": {
            "tags": []
          },
          "execution_count": 5
        }
      ]
    },
    {
      "cell_type": "code",
      "metadata": {
        "id": "fVrEt7QeELuT",
        "colab_type": "code",
        "colab": {
          "base_uri": "https://localhost:8080/",
          "height": 72
        },
        "outputId": "e642cb4c-a693-4e83-eeaa-b842a5208e64"
      },
      "source": [
        "verificacao = [mulheres[i] for i in range(len(mulheres)) if \"MULHER\" in mulheres[i]]\n",
        "nao_identificada = [verificacao[i] for i in range(len(verificacao)) if \"NÃO IDENTIFICAD\" in verificacao[i] and \"DOENÇA NÃO IDENTIFICADA\" not in verificacao[i]]\n",
        "\n",
        "\n",
        "print(len(verificacao))\n",
        "print(len(nao_identificada))\n",
        "\n",
        "print(len(nao_identificada)/len(verificacao)*100)"
      ],
      "execution_count": 7,
      "outputs": [
        {
          "output_type": "stream",
          "text": [
            "105\n",
            "54\n",
            "51.42857142857142\n"
          ],
          "name": "stdout"
        }
      ]
    },
    {
      "cell_type": "markdown",
      "metadata": {
        "id": "UDj5W8Bg0W7V",
        "colab_type": "text"
      },
      "source": [
        "# BUSCA HOMENS"
      ]
    },
    {
      "cell_type": "code",
      "metadata": {
        "id": "HTF1JHYC01Yd",
        "colab_type": "code",
        "colab": {}
      },
      "source": [
        "homens = busca(38, query = ['homem'])"
      ],
      "execution_count": 8,
      "outputs": []
    },
    {
      "cell_type": "code",
      "metadata": {
        "id": "U0WiORUS1i76",
        "colab_type": "code",
        "colab": {
          "base_uri": "https://localhost:8080/",
          "height": 35
        },
        "outputId": "716761d6-f033-4642-e5fe-92cc01f53de8"
      },
      "source": [
        "len(homens)"
      ],
      "execution_count": 9,
      "outputs": [
        {
          "output_type": "execute_result",
          "data": {
            "text/plain": [
              "374"
            ]
          },
          "metadata": {
            "tags": []
          },
          "execution_count": 9
        }
      ]
    },
    {
      "cell_type": "code",
      "metadata": {
        "id": "4iXyEmi719KM",
        "colab_type": "code",
        "colab": {
          "base_uri": "https://localhost:8080/",
          "height": 72
        },
        "outputId": "474525b2-371f-4dc6-8939-7506024c2a9b"
      },
      "source": [
        "verificacao_homens = [homens[i] for i in range(len(homens)) if \"HOMEM\" in homens[i] or \"HOMENS\" in homens[i]]\n",
        "nao_identificados = [verificacao_homens[i] for i in range(len(verificacao_homens)) if \"NÃO IDENTIFICAD\" in verificacao_homens[i] and \"DOENÇA NÃO IDENTIFICADA\" not in verificacao_homens[i]]\n",
        "\n",
        "\n",
        "print(len(verificacao_homens))\n",
        "print(len(nao_identificados))\n",
        "\n",
        "print(len(nao_identificados)/len(verificacao_homens)*100)"
      ],
      "execution_count": 10,
      "outputs": [
        {
          "output_type": "stream",
          "text": [
            "168\n",
            "139\n",
            "82.73809523809523\n"
          ],
          "name": "stdout"
        }
      ]
    }
  ]
}